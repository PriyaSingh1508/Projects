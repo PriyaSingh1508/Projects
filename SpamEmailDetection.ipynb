{
  "nbformat": 4,
  "nbformat_minor": 0,
  "metadata": {
    "colab": {
      "provenance": [],
      "mount_file_id": "1_R84XglwPhBpKqdIxRW6UtH8kw1zOQkJ",
      "authorship_tag": "ABX9TyOG0Uo6lXnpZ+17b9YmnZGm",
      "include_colab_link": true
    },
    "kernelspec": {
      "name": "python3",
      "display_name": "Python 3"
    },
    "language_info": {
      "name": "python"
    }
  },
  "cells": [
    {
      "cell_type": "markdown",
      "metadata": {
        "id": "view-in-github",
        "colab_type": "text"
      },
      "source": [
        "<a href=\"https://colab.research.google.com/github/PriyaSingh1508/Projects/blob/main/SpamEmailDetection.ipynb\" target=\"_parent\"><img src=\"https://colab.research.google.com/assets/colab-badge.svg\" alt=\"Open In Colab\"/></a>"
      ]
    },
    {
      "cell_type": "code",
      "source": [
        "import nltk\n",
        "nltk.download('punkt')\n",
        "nltk.download('averaged_perceptron_tagger')\n",
        "nltk.download('stopwords')\n",
        "from nltk.tokenize import sent_tokenize,RegexpTokenizer,word_tokenize\n",
        "from nltk.corpus import stopwords\n",
        "from nltk.stem import PorterStemmer\n",
        "from sklearn.feature_extraction.text import CountVectorizer\n",
        "import numpy as np\n",
        "import pandas as pd\n",
        "from sklearn.preprocessing import LabelEncoder\n",
        "from sklearn.feature_extraction.text import CountVectorizer\n",
        "from sklearn.model_selection import train_test_split"
      ],
      "metadata": {
        "colab": {
          "base_uri": "https://localhost:8080/"
        },
        "id": "UxlScHfxh667",
        "outputId": "5cd9810d-f313-4264-ce60-53f502dcf1c6"
      },
      "execution_count": 2,
      "outputs": [
        {
          "output_type": "stream",
          "name": "stderr",
          "text": [
            "[nltk_data] Downloading package punkt to /root/nltk_data...\n",
            "[nltk_data]   Unzipping tokenizers/punkt.zip.\n",
            "[nltk_data] Downloading package averaged_perceptron_tagger to\n",
            "[nltk_data]     /root/nltk_data...\n",
            "[nltk_data]   Unzipping taggers/averaged_perceptron_tagger.zip.\n",
            "[nltk_data] Downloading package stopwords to /root/nltk_data...\n",
            "[nltk_data]   Unzipping corpora/stopwords.zip.\n"
          ]
        }
      ]
    },
    {
      "cell_type": "code",
      "source": [
        "df=pd.read_csv('/SpamEmailDetection.csv',encoding='ISO-8859-1')"
      ],
      "metadata": {
        "id": "CRKwuWB2j2BH"
      },
      "execution_count": 5,
      "outputs": []
    },
    {
      "cell_type": "code",
      "source": [
        "le=LabelEncoder()\n",
        "data=df.to_numpy()#converts the datafraame to a numpy array"
      ],
      "metadata": {
        "id": "pkcJa-JgkYNz"
      },
      "execution_count": 6,
      "outputs": []
    },
    {
      "cell_type": "code",
      "source": [
        "X=data[:,1]\n",
        "y=data[:,0]"
      ],
      "metadata": {
        "id": "KxajLLmdkgjj"
      },
      "execution_count": 7,
      "outputs": []
    },
    {
      "cell_type": "code",
      "source": [
        "X.shape,y.shape\n"
      ],
      "metadata": {
        "colab": {
          "base_uri": "https://localhost:8080/"
        },
        "id": "hkph04rvkl5x",
        "outputId": "13e30c2f-f021-4823-ea81-d9b0ae4063a4"
      },
      "execution_count": 8,
      "outputs": [
        {
          "output_type": "execute_result",
          "data": {
            "text/plain": [
              "((5572,), (5572,))"
            ]
          },
          "metadata": {},
          "execution_count": 8
        }
      ]
    },
    {
      "cell_type": "code",
      "source": [
        "tokenizer=RegexpTokenizer('\\w+')#\\w+ matches any word character (equal to [a-zA-Z0-9_]) + Quantifier — Matches\n",
        "# between one and unlimited times, as many times as possible, giving back as needed.\n",
        "stw=set(stopwords.words('english'))\n",
        "ps=PorterStemmer()\n"
      ],
      "metadata": {
        "id": "2eVsapNlkqDb"
      },
      "execution_count": 9,
      "outputs": []
    },
    {
      "cell_type": "code",
      "source": [
        "def getStem(review):\n",
        "  review=review.lower()\n",
        "  tokens=tokenizer.tokenize(review)#breaking into small words\n",
        "  removed_stopwords=[w for w in tokens if w not in stw ]\n",
        "  stemmed_words=[ps.stem(token) for token in removed_stopwords]\n",
        "  clean_review=\" \".join(stemmed_words)\n",
        "  return clean_review"
      ],
      "metadata": {
        "id": "c8cnLykvkuVP"
      },
      "execution_count": 10,
      "outputs": []
    },
    {
      "cell_type": "code",
      "source": [
        "#get a clean document\n",
        "def getDoc(document):\n",
        "  d=[]\n",
        "  for doc in document:\n",
        "    d.append(getStem(doc))\n",
        "  return d"
      ],
      "metadata": {
        "id": "41NYR4zRkx5c"
      },
      "execution_count": 11,
      "outputs": []
    },
    {
      "cell_type": "code",
      "source": [
        "stemmed_doc=getDoc(X)"
      ],
      "metadata": {
        "id": "Xnebmgmak5n1"
      },
      "execution_count": 12,
      "outputs": []
    },
    {
      "cell_type": "code",
      "source": [
        "stemmed_doc[:10]"
      ],
      "metadata": {
        "colab": {
          "base_uri": "https://localhost:8080/"
        },
        "id": "0KrwFmzzk86Q",
        "outputId": "d756989e-48c2-4029-c825-aebed5de675c"
      },
      "execution_count": 13,
      "outputs": [
        {
          "output_type": "execute_result",
          "data": {
            "text/plain": [
              "['go jurong point crazi avail bugi n great world la e buffet cine got amor wat',\n",
              " 'ok lar joke wif u oni',\n",
              " 'free entri 2 wkli comp win fa cup final tkt 21st may 2005 text fa 87121 receiv entri question std txt rate c appli 08452810075over18',\n",
              " 'u dun say earli hor u c alreadi say',\n",
              " 'nah think goe usf live around though',\n",
              " 'freemsg hey darl 3 week word back like fun still tb ok xxx std chg send 1 50 rcv',\n",
              " 'even brother like speak treat like aid patent',\n",
              " 'per request mell mell oru minnaminungint nurungu vettam set callertun caller press 9 copi friend callertun',\n",
              " 'winner valu network custom select receivea 900 prize reward claim call 09061701461 claim code kl341 valid 12 hour',\n",
              " 'mobil 11 month u r entitl updat latest colour mobil camera free call mobil updat co free 08002986030']"
            ]
          },
          "metadata": {},
          "execution_count": 13
        }
      ]
    },
    {
      "cell_type": "code",
      "source": [
        "cv=CountVectorizer()\n"
      ],
      "metadata": {
        "id": "ECx8qkRylCmC"
      },
      "execution_count": 14,
      "outputs": []
    },
    {
      "cell_type": "code",
      "source": [
        "#create my vocab\n",
        "vc=cv.fit_transform(stemmed_doc)"
      ],
      "metadata": {
        "id": "1TQ5GQRMlGTD"
      },
      "execution_count": 15,
      "outputs": []
    },
    {
      "cell_type": "code",
      "source": [
        "X=vc.toarray()#or use vc toarray()"
      ],
      "metadata": {
        "id": "tmdf40OilKM5"
      },
      "execution_count": 16,
      "outputs": []
    },
    {
      "cell_type": "code",
      "source": [
        "X_train, X_test, y_train, y_test = train_test_split(\n",
        "...     X, y, test_size=0.33, random_state=42)\n"
      ],
      "metadata": {
        "id": "qTzWxT8hlNZH"
      },
      "execution_count": 17,
      "outputs": []
    },
    {
      "cell_type": "code",
      "source": [
        "#Naive Baye's from sklearn\n",
        "from sklearn.naive_bayes import MultinomialNB"
      ],
      "metadata": {
        "id": "fSa4Uu0TlRdS"
      },
      "execution_count": 18,
      "outputs": []
    },
    {
      "cell_type": "code",
      "source": [
        "model=MultinomialNB()\n",
        "model.fit(X_train,y_train)\n",
        "model.score(X_test,y_test)"
      ],
      "metadata": {
        "colab": {
          "base_uri": "https://localhost:8080/"
        },
        "id": "K41xFqKllUhk",
        "outputId": "19072fda-f60c-467a-f01f-23a01f8df00f"
      },
      "execution_count": 19,
      "outputs": [
        {
          "output_type": "execute_result",
          "data": {
            "text/plain": [
              "0.977705274605764"
            ]
          },
          "metadata": {},
          "execution_count": 19
        }
      ]
    },
    {
      "cell_type": "code",
      "source": [
        "messages = [\n",
        "\"\"\"HI  ,how are you?\"\"\",\"\"\"\n",
        "Congratulations!You have won a $100\"\"\"\n",
        "]"
      ],
      "metadata": {
        "id": "Lg0gRpTUlYqm"
      },
      "execution_count": 20,
      "outputs": []
    },
    {
      "cell_type": "code",
      "source": [
        "def prepare(messages):\n",
        "  d=getDoc(messages)\n",
        "  #don't do fit_transform: it will create new vocab.\n",
        "  return cv.transform(d)\n",
        "messages=prepare(messages)"
      ],
      "metadata": {
        "id": "5JIH92LSlbyJ"
      },
      "execution_count": 21,
      "outputs": []
    },
    {
      "cell_type": "code",
      "source": [
        "y_pred= model.predict(messages)"
      ],
      "metadata": {
        "id": "6AYJnmMuljQd"
      },
      "execution_count": 22,
      "outputs": []
    },
    {
      "cell_type": "code",
      "source": [
        "print(y_pred)"
      ],
      "metadata": {
        "colab": {
          "base_uri": "https://localhost:8080/"
        },
        "id": "s390fmV-lnh6",
        "outputId": "dc899582-d384-4bd5-da8d-1c296b9a0a0f"
      },
      "execution_count": 23,
      "outputs": [
        {
          "output_type": "stream",
          "name": "stdout",
          "text": [
            "['ham' 'spam']\n"
          ]
        }
      ]
    },
    {
      "cell_type": "code",
      "source": [],
      "metadata": {
        "id": "hQOXHH_Ilqmv"
      },
      "execution_count": null,
      "outputs": []
    }
  ]
}